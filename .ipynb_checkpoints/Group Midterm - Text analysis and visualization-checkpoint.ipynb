{
 "cells": [
  {
   "cell_type": "markdown",
   "metadata": {},
   "source": [
    "# Group Midterm - Text analysis and visualization\n",
    "\n",
    "The group members of this project are:\n",
    "* Devdhar Patel\n",
    "* Abhishek Singhal\n",
    "\n",
    "Notes for running this notebook: \n",
    "pip install wordcloud"
   ]
  },
  {
   "cell_type": "markdown",
   "metadata": {},
   "source": [
    "## The Dataset\n",
    "The data was scraped off the twitter website using [twitterscraper](https://github.com/taspinar/twitterscraper). We scraped 10,000 tweets with the #BigData in the text."
   ]
  },
  {
   "cell_type": "code",
   "execution_count": null,
   "metadata": {},
   "outputs": [],
   "source": [
    "import pandas as pd\n",
    "# from nltk.tokenize import word_tokenize\n",
    "# from nltk.corpus import stopwords\n",
    "# from collections import Counter\n",
    "# from nltk import bigrams \n",
    "# import string\n",
    "\n",
    "# from bokeh.plotting import figure\n",
    "# from bokeh.io import output_notebook, show\n",
    "# from bokeh.models import ColumnDataSource, Select,LabelSet\n",
    "# import matplotlib.pyplot as plt\n",
    "from wordcloud import WordCloud\n",
    "\n",
    "\n",
    "\n",
    "df = pd.read_json('tweets.json')\n",
    "df.head()"
   ]
  },
  {
   "cell_type": "code",
   "execution_count": null,
   "metadata": {},
   "outputs": [],
   "source": [
    "wordcloud = WordCloud().generate(''.join(list(df['text'])))\n",
    "image = wordcloud.to_image()"
   ]
  },
  {
   "cell_type": "code",
   "execution_count": null,
   "metadata": {},
   "outputs": [],
   "source": [
    "commonWordsPlot=figure(x_range =list(set(common_terms)),plot_height=300, plot_width=900, title='Most Common words #soccer')\n",
    "commonWordsData = ColumnDataSource(data=dict(x=list(common_terms.keys()),y=list(common_terms.values()),\n",
    "                                  label = list(common_terms.values())))\n",
    "labels0 = LabelSet(x='x', y='y', text='label', level='glyph',\n",
    "                  x_offset=5, y_offset=5, source=commonWordsData, render_mode='canvas')\n",
    "commonWordsPlot.add_layout(labels0)\n",
    "commonWordsPlot.vbar(x='x',top='y',source=commonWordsData,width=1)\n",
    "show(commonWordsPlot)\n",
    "\n",
    "\n",
    "hPlot=figure(x_range =list(set(common_hashtags)),plot_height=300, plot_width=900, title='Most popular associated Hashtags')\n",
    "commonHashtagsData = ColumnDataSource(data=dict(x=list(common_hashtags.keys()),y=list(common_hashtags.values()),\n",
    "                                               label = list(common_hashtags.values())))\n",
    "hPlot.vbar(x='x',top='y',source=commonHashtagsData,width=1)\n",
    "labels1 = LabelSet(x='x', y='y', text='label', level='glyph',\n",
    "                  x_offset=5, y_offset=5, source=commonHashtagsData, render_mode='canvas')\n",
    "commonWordsPlot.add_layout(labels1)\n",
    "show(hPlot)\n",
    "#print(terms_all)"
   ]
  },
  {
   "cell_type": "code",
   "execution_count": null,
   "metadata": {},
   "outputs": [],
   "source": [
    "import nltk\n",
    "import re\n",
    "from nltk.stem.snowball import SnowballStemmer\n",
    "from sklearn.feature_extraction.text import TfidfVectorizer,HashingVectorizer,CountVectorizer\n",
    "from sklearn.metrics.pairwise import cosine_similarity\n",
    "\n",
    "#take text in twitter to 'cluster on' from dataframe\n",
    "textDf = df['text']\n",
    "\n",
    "#tokenize given text\n",
    "def tokenize(text):\n",
    "    textTokens=[]\n",
    "    #for userComments in commentsDf:\n",
    "    textTokens = (nltk.word_tokenize(text))\n",
    "    #filter out punctuations and numeric tokens\n",
    "    return textTokens\n",
    "\n",
    "#create vocabulary dictionary for all the tweets\n",
    "totalVocabTokens = []\n",
    "for i in textDF:\n",
    "    totalVocabTokens.extend(nltk.word_tokenize(str(i)))\n",
    "#making Term Frequency-Inverse document Frequency matrix model\n",
    "tfidf_vectorizer = TfidfVectorizer(max_df=0.8,\n",
    "                                 min_df=0, stop_words='english',\n",
    "                                 use_idf=True,tokenizer=tokenize, ngram_range=(1,1))  #creating features by taking 3 words at a time\n",
    "\n",
    "tfidf_matrix = tfidf_vectorizer.fit_transform(textDF)\n",
    "print (tfidf_matrix.shape)\n",
    "wordFeatures = tfidf_vectorizer.get_feature_names()   #this may be different from totalVocabTokens\n",
    "\n",
    "#calcluate distance between different tweets based on tf-idf matrix\n",
    "#will be used for clustering and visualization later on\n",
    "distWords = 1 - cosine_similarity(tfidf_matrix)\n"
   ]
  },
  {
   "cell_type": "code",
   "execution_count": null,
   "metadata": {
    "collapsed": true
   },
   "outputs": [],
   "source": [
    "#https://buhrmann.github.io/tfidf-analysis.html\n",
    "#code to see top feature/word in each tweet from tf-idf matrix\n",
    "import numpy as np\n",
    "topFeaturesInEachTweet=[]\n",
    "for row in tfidf_matrix:\n",
    "    row = np.squeeze(row.toarray())\n",
    "    topn_ids = np.argsort(row)[::-1][:1]\n",
    "    top_feats = [(wordFeatures[i]) for i in topn_ids]\n",
    "    topFeaturesInEachTweet.extend(top_feats)\n",
    "    #print (top_feats)\n",
    "\n",
    "#print (top_features)"
   ]
  },
  {
   "cell_type": "code",
   "execution_count": null,
   "metadata": {
    "collapsed": true
   },
   "outputs": [],
   "source": [
    "#code to calculate frequency of each hashtag\n",
    "#will be later used to cluster on hashtags\n",
    "countHashtagsVectorizer = CountVectorizer(stop_words='english',tokenizer=tokenize,ngram_range=(1,1))\n",
    "countHasgtagsMatrix = countHashtagsVectorizer.fit_transform(hashtagsDf)\n",
    "\n",
    "#calcluate distance between different tweets based on tf-idf matrix\n",
    "#will be used for clustering and visualization later on\n",
    "distHashtags = 1 - cosine_similarity(countHasgtagsMatrix)"
   ]
  },
  {
   "cell_type": "code",
   "execution_count": null,
   "metadata": {},
   "outputs": [],
   "source": [
    "#http://brandonrose.org/clustering\n",
    "from sklearn.cluster import KMeans,DBSCAN\n",
    "\n",
    "def clusteringAlgo(matrix,model,para):\n",
    "    if (model=='KMeans'):\n",
    "        clf = KMeans(n_clusters=para)\n",
    "        clf.fit(matrix)\n",
    "        \n",
    "        order_centroids = clf.cluster_centers_.argsort()[:,::-1]\n",
    "        print (order_centroids)\n",
    "\n",
    "        for centres in order_centroids:\n",
    "            topFeaturesInEachCluster=[]\n",
    "            for words in centres[:6]:\n",
    "                topFeaturesInEachCluster.append(wordFeatures[words])\n",
    "            print (topFeaturesInEachCluster)\n",
    "        clusters = clf.labels_.tolist()\n",
    "        return clusters,topFeaturesInEachCluster\n",
    "    \n",
    "    elif (model =='DBscan'):\n",
    "        clf = DBSCAN(eps=para,min_samples=3)\n",
    "        clf.fit(matrix)\n",
    "        clusters = clf.labels_.tolist()\n",
    "        return clusters\n",
    "\n",
    "\n",
    "\n",
    "clusterWords,topFeaturesWordsInEachCluster = clusteringAlgo(tfidf_matrix,'KMeans',5)\n",
    "clusterHashtags = clusteringAlgo(countHasgtagsMatrix,'DBscan',1)"
   ]
  },
  {
   "cell_type": "code",
   "execution_count": null,
   "metadata": {
    "collapsed": true
   },
   "outputs": [],
   "source": [
    "from sklearn.manifold import MDS\n",
    "#dimensionality reduction for the TF-IDF matrix (or df equally)\n",
    "def dimensionReduction(dist):\n",
    "    \n",
    "    MDS()\n",
    "\n",
    "    # convert two components as we're plotting points in a two-dimensional plane\n",
    "\n",
    "    # we will also specify `random_state` so the plot is reproducible.\n",
    "    mds = MDS(n_components=2, random_state=1,dissimilarity='precomputed')\n",
    "\n",
    "    #toarray() converts sparse array to dense numpy array\n",
    "    pos = mds.fit_transform(dist)  # shape (n_components, n_samples)\n",
    "    return pos\n",
    "    #store the dimensions in xs, ys\n",
    "    #xs, ys = pos[:, 0], pos[:, 1]\n"
   ]
  },
  {
   "cell_type": "code",
   "execution_count": null,
   "metadata": {},
   "outputs": [],
   "source": [
    "from bokeh.plotting import figure\n",
    "from bokeh.io import output_notebook, show\n",
    "from bokeh.models import ColumnDataSource, Select,LabelSet\n",
    "\n",
    "def get_colors(clusters):\n",
    "    colors=[]\n",
    "    for i in clusters:\n",
    "        if i==-1:\n",
    "            colors.append('violet')\n",
    "        if i==0:\n",
    "            colors.append('red')\n",
    "        if i==1:\n",
    "            colors.append('blue')\n",
    "        if i==2:\n",
    "            colors.append('green')\n",
    "        if i==3:\n",
    "            colors.append('brown')\n",
    "        if i==4:\n",
    "            colors.append('yellow')\n",
    "        if i==5:\n",
    "            colors.append('pink')\n",
    "        if i==6:\n",
    "            colors.append('orange')\n",
    "    return colors\n",
    "\n",
    "\n",
    "output_notebook()\n",
    "\n",
    "a=figure(plot_height=500, plot_width=900, title='clustering groups based on Tweet Text')\n",
    "data = ColumnDataSource(data=dict(x=dimensionReduction(distWords)[:, 0],y=dimensionReduction(distWords)[:, 1],\n",
    "                                colors = get_colors(clusterWords),label=topFeaturesInEachTweet))\n",
    "a.square('x','y',fill_color='colors',line_color='colors',source=data,size=10)\n",
    "#users are label\n",
    "labels = LabelSet(x='x', y='y', text='label', level='glyph',\n",
    "                  x_offset=10, y_offset=-15, source=data, render_mode='canvas',text_font_size='8pt')\n",
    "a.add_layout(labels)\n",
    "show(a)\n",
    "\n",
    "#print(data.column_names)\n",
    "b=figure( plot_height=500, plot_width=900, title='clustering groups based on Hashtags')\n",
    "data1 = ColumnDataSource(data=dict(x =dimensionReduction(distHashtags)[:, 0],y=dimensionReduction(distHashtags)[:, 1] ,\n",
    "                                   colors = get_colors(clusterHashtags),label=hashtagsDf))\n",
    "b.square('x','y',fill_color='colors',line_color='colors',source=data1,size=10)\n",
    "#user are labels\n",
    "labels = LabelSet(x='x', y='y', text='label', level='glyph',\n",
    "                  x_offset=5, y_offset=5, source=data1,render_mode='canvas',text_font_size='8pt')\n",
    "b.add_layout(labels)\n",
    "show(b)"
   ]
  },
  {
   "cell_type": "code",
   "execution_count": null,
   "metadata": {
    "collapsed": true
   },
   "outputs": [],
   "source": []
  }
 ],
 "metadata": {
  "kernelspec": {
   "display_name": "Python 3",
   "language": "python",
   "name": "python3"
  },
  "language_info": {
   "codemirror_mode": {
    "name": "ipython",
    "version": 3
   },
   "file_extension": ".py",
   "mimetype": "text/x-python",
   "name": "python",
   "nbconvert_exporter": "python",
   "pygments_lexer": "ipython3",
   "version": "3.6.1"
  }
 },
 "nbformat": 4,
 "nbformat_minor": 2
}
